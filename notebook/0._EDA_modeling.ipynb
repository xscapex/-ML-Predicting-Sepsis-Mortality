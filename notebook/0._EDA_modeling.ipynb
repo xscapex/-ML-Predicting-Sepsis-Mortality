{
  "nbformat": 4,
  "nbformat_minor": 0,
  "metadata": {
    "colab": {
      "name": "EDA.ipynb",
      "provenance": []
    },
    "kernelspec": {
      "name": "python3",
      "display_name": "Python 3"
    },
    "language_info": {
      "name": "python"
    }
  },
  "cells": [
    {
      "cell_type": "code",
      "execution_count": 1,
      "metadata": {
        "id": "bSfgJifJCxw7",
        "colab": {
          "base_uri": "https://localhost:8080/"
        },
        "outputId": "155b65c6-466f-4966-a5a9-156160a2c343"
      },
      "outputs": [
        {
          "output_type": "stream",
          "name": "stderr",
          "text": [
            "/usr/local/lib/python3.7/dist-packages/statsmodels/tools/_testing.py:19: FutureWarning: pandas.util.testing is deprecated. Use the functions in the public API at pandas.testing instead.\n",
            "  import pandas.util.testing as tm\n"
          ]
        }
      ],
      "source": [
        "from pathlib import Path\n",
        "import pandas as pd\n",
        "import numpy as np\n",
        "\n",
        "from sklearn.naive_bayes import MultinomialNB\n",
        "from sklearn.discriminant_analysis import LinearDiscriminantAnalysis\n",
        "from sklearn.linear_model import LogisticRegression #, LogisticRegressionCV\n",
        "from sklearn.tree import DecisionTreeClassifier\n",
        "from sklearn.metrics import confusion_matrix, precision_recall_fscore_support\n",
        "from sklearn.metrics import roc_curve, accuracy_score, roc_auc_score\n",
        "\n",
        "import statsmodels.api as sm\n",
        "\n",
        "from imblearn.over_sampling import SMOTE, ADASYN, BorderlineSMOTE\n",
        "# from pygam import LinearGAM, s, f, l\n",
        "\n",
        "\n",
        "# from dmba import classificationSummary\n",
        "\n",
        "import seaborn as sns\n",
        "import matplotlib.pyplot as plt\n",
        "\n",
        "%matplotlib inline"
      ]
    },
    {
      "cell_type": "code",
      "source": [
        "%cd /content/drive/MyDrive/github/NIS_sepsis"
      ],
      "metadata": {
        "colab": {
          "base_uri": "https://localhost:8080/"
        },
        "id": "nWY0EiTeDzKl",
        "outputId": "1ea91c4a-951c-479a-9fd0-c012793ddfdd"
      },
      "execution_count": 2,
      "outputs": [
        {
          "output_type": "stream",
          "name": "stdout",
          "text": [
            "/content/drive/MyDrive/github/NIS_sepsis\n"
          ]
        }
      ]
    },
    {
      "cell_type": "code",
      "source": [
        "try:\n",
        "    import common\n",
        "    DATA = common.dataDirectory()\n",
        "except ImportError:\n",
        "    DATA = Path().resolve() / 'data'"
      ],
      "metadata": {
        "id": "2KA-pP0NDjLr"
      },
      "execution_count": 3,
      "outputs": []
    },
    {
      "cell_type": "code",
      "source": [
        "SEPSIS_TRAIN_TXT = DATA / 'df_small.zip'"
      ],
      "metadata": {
        "id": "Il2ztekcELlJ"
      },
      "execution_count": 35,
      "outputs": []
    },
    {
      "cell_type": "code",
      "source": [
        "SEPSIS_VAL_TXT = DATA / 'sepsis_validation_small.zip'"
      ],
      "metadata": {
        "id": "Rrqu_g_zHy5O"
      },
      "execution_count": 5,
      "outputs": []
    },
    {
      "cell_type": "markdown",
      "source": [
        "Load data"
      ],
      "metadata": {
        "id": "Ry_eCRK7Ge02"
      }
    },
    {
      "cell_type": "code",
      "source": [
        "# import required modules\n",
        "import zipfile\n",
        " \n",
        "# read the dataset using the compression zip\n",
        "df_train = pd.read_table(SEPSIS_TRAIN_TXT, delimiter = ' ' ,compression='zip')\n",
        "\n",
        "# read the dataset using the compression zip\n",
        "df_val = pd.read_table(SEPSIS_VAL_TXT, delimiter = ',' ,compression='zip')"
      ],
      "metadata": {
        "id": "CUGhfvwqGZpo"
      },
      "execution_count": 43,
      "outputs": []
    },
    {
      "cell_type": "code",
      "source": [
        "df_train.columns.values"
      ],
      "metadata": {
        "colab": {
          "base_uri": "https://localhost:8080/"
        },
        "id": "LXNE9rA2IMga",
        "outputId": "47c710e6-6aa0-4a3a-abbc-60de4369abfc"
      },
      "execution_count": 41,
      "outputs": [
        {
          "output_type": "execute_result",
          "data": {
            "text/plain": [
              "array(['AGE DIED ELECTIVE FEMALE RACE YEAR ZIPInc_Qrtl CHF NEURO CHRNLUNG HYPOTHY RENLFAIL LIVER LYMPH METS TUMOR ARTH OBESE WGHTLOSS DRUG PSYCH DEPRESS HTN_C SID29 c2 c21 c1 c3 c5 c6 c7 c8 c9 c10 c11 c14 c15 c16 c17 c18 c12 c13 HOSP_LOCTEACH PULMCIRC PERIVASC PARA dxccs_cat_p1 dxccs_cat_p2 dxccs_cat_p3 dxccs_cat_p4 dxccs_cat_p5 dxccs_cat_p6 dxccs_cat_p7 dxccs_cat_p8 dxccs_cat_p9 dxccs_cat_p10 dxccs_cat_p11 dxccs_cat_p12 dxccs_cat_p13 dxccs_cat_p14 dxccs_cat_p15 dxccs_cat_p16 dxccs_cat_p17 dxccs_cat_p18 dxccs_cat_p19 dxccs_cat_p20 dxccs_cat_p21 dxccs_cat_p22 dxccs_cat_p23 dxccs_cat_p24 dxccs_cat_p25 dxccs_cat_p26 dxccs_cat_p27 dxccs_cat_p28 dxccs_cat_p29 dxccs_cat_p30 dxccs_cat_p31 dxccs_cat_p32 dxccs_cat_p33 dxccs_cat_p34 dxccs_cat_p35 dxccs_cat_p36 dxccs_cat_p37 dxccs_cat_p38 dxccs_cat_p39 dxccs_cat_p40 dxccs_cat_p41 dxccs_cat_p42 dxccs_cat_p43 dxccs_cat_p44 dxccs_cat_p45 dxccs_cat_p46 dxccs_cat_p47 dxccs_cat_p48 dxccs_cat_p49 dxccs_cat_p50 dxccs_cat_p51 dxccs_cat_p52 dxccs_cat_p53 dxccs_cat_p54 dxccs_cat_p55 dxccs_cat_p56 dxccs_cat_p57 dxccs_cat_p58 dxccs_cat_p59 dxccs_cat_p60 dxccs_cat_p61 dxccs_cat_p62 dxccs_cat_p63 dxccs_cat_p64 dxccs_cat_p65 dxccs_cat_p66 dxccs_cat_p67 dxccs_cat_p68 dxccs_cat_p69 dxccs_cat_p70 dxccs_cat_p71 dxccs_cat_p72 dxccs_cat_p73 dxccs_cat_p74 dxccs_cat_p75 dxccs_cat_p76 dxccs_cat_p77 dxccs_cat_p78 dxccs_cat_p79 dxccs_cat_p80 dxccs_cat_p81 dxccs_cat_p82 dxccs_cat_p83 dxccs_cat_p84 dxccs_cat_p85 dxccs_cat_p86 dxccs_cat_p87 dxccs_cat_p88 dxccs_cat_p89 dxccs_cat_p90 dxccs_cat_p91 dxccs_cat_p92 dxccs_cat_p93 dxccs_cat_p94 dxccs_cat_p95 dxccs_cat_p96 dxccs_cat_p97 dxccs_cat_p98 dxccs_cat_p99 dxccs_cat_p100 dxccs_cat_p101 dxccs_cat_p102 dxccs_cat_p103 dxccs_cat_p104 dxccs_cat_p105 dxccs_cat_p106 dxccs_cat_p107 dxccs_cat_p108 dxccs_cat_p109 dxccs_cat_p110 dxccs_cat_p111 dxccs_cat_p112 dxccs_cat_p113 dxccs_cat_p114 dxccs_cat_p115 dxccs_cat_p116 dxccs_cat_p117 dxccs_cat_p118 dxccs_cat_p119 dxccs_cat_p120 dxccs_cat_p121 dxccs_cat_p122 dxccs_cat_p123 dxccs_cat_p124 dxccs_cat_p125 dxccs_cat_p126 dxccs_cat_p127 dxccs_cat_p128 dxccs_cat_p129 dxccs_cat_p130 dxccs_cat_p131 dxccs_cat_p132 dxccs_cat_p133 dxccs_cat_p134 dxccs_cat_p135 dxccs_cat_p136 dxccs_cat_p137 dxccs_cat_p138 dxccs_cat_p139 dxccs_cat_p140 dxccs_cat_p141 dxccs_cat_p142 dxccs_cat_p143 dxccs_cat_p144 dxccs_cat_p145 dxccs_cat_p146 dxccs_cat_p147 dxccs_cat_p148 dxccs_cat_p149 dxccs_cat_p150 dxccs_cat_p151 dxccs_cat_p152 dxccs_cat_p153 dxccs_cat_p154 dxccs_cat_p155 dxccs_cat_p156 dxccs_cat_p157 dxccs_cat_p158 dxccs_cat_p159 dxccs_cat_p160 dxccs_cat_p161 dxccs_cat_p162 dxccs_cat_p163 dxccs_cat_p164 dxccs_cat_p165 dxccs_cat_p166 dxccs_cat_p167 dxccs_cat_p168 dxccs_cat_p169 dxccs_cat_p170 dxccs_cat_p171 dxccs_cat_p172 dxccs_cat_p173 dxccs_cat_p174 dxccs_cat_p175 dxccs_cat_p176 dxccs_cat_p177 dxccs_cat_p178 dxccs_cat_p179 dxccs_cat_p180 dxccs_cat_p181 dxccs_cat_p182 dxccs_cat_p183 dxccs_cat_p184 dxccs_cat_p185 dxccs_cat_p186 dxccs_cat_p187 dxccs_cat_p188 dxccs_cat_p189 dxccs_cat_p190 dxccs_cat_p191 dxccs_cat_p192 dxccs_cat_p193 dxccs_cat_p194 dxccs_cat_p195 dxccs_cat_p196 dxccs_cat_p197 dxccs_cat_p198 dxccs_cat_p199 dxccs_cat_p200 dxccs_cat_p201 dxccs_cat_p202 dxccs_cat_p203 dxccs_cat_p204 dxccs_cat_p205 dxccs_cat_p206 dxccs_cat_p207 dxccs_cat_p208 dxccs_cat_p209 dxccs_cat_p210 dxccs_cat_p211 dxccs_cat_p212 dxccs_cat_p213 dxccs_cat_p214 dxccs_cat_p215 dxccs_cat_p216 dxccs_cat_p217 dxccs_cat_p218 dxccs_cat_p219 dxccs_cat_p220 dxccs_cat_p221 dxccs_cat_p222 dxccs_cat_p223 dxccs_cat_p224 dxccs_cat_p225 dxccs_cat_p226 dxccs_cat_p227 dxccs_cat_p228 dxccs_cat_p229 dxccs_cat_p230 dxccs_cat_p231 dxccs_cat_p232 dxccs_cat_p233 dxccs_cat_p234 dxccs_cat_p235 dxccs_cat_p236 dxccs_cat_p237 dxccs_cat_p238 dxccs_cat_p239 dxccs_cat_p240 dxccs_cat_p241 dxccs_cat_p242 dxccs_cat_p243 dxccs_cat_p244 dxccs_cat_p245 dxccs_cat_p246 dxccs_cat_p247 dxccs_cat_p248 dxccs_cat_p249 dxccs_cat_p250 dxccs_cat_p251 dxccs_cat_p252 dxccs_cat_p253 dxccs_cat_p254 dxccs_cat_p255 dxccs_cat_p256 dxccs_cat_p257 dxccs_cat_p258 dxccs_cat_p259 prccs_cat_p1 prccs_cat_p2 prccs_cat_p3 prccs_cat_p4 prccs_cat_p5 prccs_cat_p6 prccs_cat_p7 prccs_cat_p8 prccs_cat_p9 prccs_cat_p10 prccs_cat_p11 prccs_cat_p12 prccs_cat_p13 prccs_cat_p14 prccs_cat_p15 prccs_cat_p16 prccs_cat_p17 prccs_cat_p18 prccs_cat_p19 prccs_cat_p20 prccs_cat_p21 prccs_cat_p22 prccs_cat_p23 prccs_cat_p24 prccs_cat_p25 prccs_cat_p26 prccs_cat_p27 prccs_cat_p28 prccs_cat_p29 prccs_cat_p30 prccs_cat_p31 prccs_cat_p32 prccs_cat_p33 prccs_cat_p34 prccs_cat_p35 prccs_cat_p36 prccs_cat_p37 prccs_cat_p38 prccs_cat_p39 prccs_cat_p40 prccs_cat_p41 prccs_cat_p42 prccs_cat_p43 prccs_cat_p44 prccs_cat_p45 prccs_cat_p46 prccs_cat_p47 prccs_cat_p48 prccs_cat_p49 prccs_cat_p50 prccs_cat_p51 prccs_cat_p52 prccs_cat_p53 prccs_cat_p54 prccs_cat_p55 prccs_cat_p56 prccs_cat_p57 prccs_cat_p58 prccs_cat_p59 prccs_cat_p60 prccs_cat_p61 prccs_cat_p62 prccs_cat_p63 prccs_cat_p64 prccs_cat_p65 prccs_cat_p66 prccs_cat_p67 prccs_cat_p68 prccs_cat_p69 prccs_cat_p70 prccs_cat_p71 prccs_cat_p72 prccs_cat_p73 prccs_cat_p74 prccs_cat_p75 prccs_cat_p76 prccs_cat_p77 prccs_cat_p78 prccs_cat_p79 prccs_cat_p80 prccs_cat_p81 prccs_cat_p82 prccs_cat_p83 prccs_cat_p84 prccs_cat_p85 prccs_cat_p86 prccs_cat_p87 prccs_cat_p88 prccs_cat_p89 prccs_cat_p90 prccs_cat_p91 prccs_cat_p92 prccs_cat_p93 prccs_cat_p94 prccs_cat_p95 prccs_cat_p96 prccs_cat_p97 prccs_cat_p98 prccs_cat_p99 prccs_cat_p100 prccs_cat_p101 prccs_cat_p102 prccs_cat_p103 prccs_cat_p104 prccs_cat_p105 prccs_cat_p106 prccs_cat_p107 prccs_cat_p108 prccs_cat_p109 prccs_cat_p110 prccs_cat_p111 prccs_cat_p112 prccs_cat_p113 prccs_cat_p114 prccs_cat_p115 prccs_cat_p116 prccs_cat_p117 prccs_cat_p118 prccs_cat_p119 prccs_cat_p120 prccs_cat_p121 prccs_cat_p122 prccs_cat_p123 prccs_cat_p124 prccs_cat_p125 prccs_cat_p126 prccs_cat_p127 prccs_cat_p128 prccs_cat_p129 prccs_cat_p130 prccs_cat_p131 prccs_cat_p132 prccs_cat_p133 prccs_cat_p134 prccs_cat_p135 prccs_cat_p136 prccs_cat_p137 prccs_cat_p138 prccs_cat_p139 prccs_cat_p140 prccs_cat_p141 prccs_cat_p142 prccs_cat_p143 prccs_cat_p144 prccs_cat_p145 prccs_cat_p146 prccs_cat_p147 prccs_cat_p148 prccs_cat_p149 prccs_cat_p150 prccs_cat_p151 prccs_cat_p152 prccs_cat_p153 prccs_cat_p154 prccs_cat_p155 prccs_cat_p156 prccs_cat_p157 prccs_cat_p158 prccs_cat_p159 prccs_cat_p160 prccs_cat_p161 prccs_cat_p162 prccs_cat_p163 prccs_cat_p164 prccs_cat_p165 prccs_cat_p166 prccs_cat_p167 prccs_cat_p168 prccs_cat_p169 prccs_cat_p170 prccs_cat_p171 prccs_cat_p172 prccs_cat_p173 prccs_cat_p174 prccs_cat_p175 prccs_cat_p176 prccs_cat_p177 prccs_cat_p178 prccs_cat_p179 prccs_cat_p180 prccs_cat_p181 prccs_cat_p182 prccs_cat_p183 prccs_cat_p184 prccs_cat_p185 prccs_cat_p186 prccs_cat_p187 prccs_cat_p188 prccs_cat_p189 prccs_cat_p190 prccs_cat_p191 prccs_cat_p192 prccs_cat_p193 prccs_cat_p194 prccs_cat_p195 prccs_cat_p196 prccs_cat_p197 prccs_cat_p198 prccs_cat_p199 prccs_cat_p200 prccs_cat_p201 prccs_cat_p202 prccs_cat_p203 prccs_cat_p204 prccs_cat_p205 prccs_cat_p206 prccs_cat_p207 prccs_cat_p208 prccs_cat_p209 prccs_cat_p210 prccs_cat_p211 prccs_cat_p212 prccs_cat_p213 prccs_cat_p214 prccs_cat_p215 prccs_cat_p216 prccs_cat_p217 prccs_cat_p218 prccs_cat_p219 prccs_cat_p220 prccs_cat_p221 prccs_cat_p222 prccs_cat_p223 prccs_cat_p224 prccs_cat_p225 prccs_cat_p226 prccs_cat_p227 prccs_cat_p228 prccs_cat_p229 prccs_cat_p230 prccs_cat_p231 dxccs_cat_s1 dxccs_cat_s2 dxccs_cat_s3 dxccs_cat_s4 dxccs_cat_s5 dxccs_cat_s6 dxccs_cat_s7 dxccs_cat_s8 dxccs_cat_s9 dxccs_cat_s10 dxccs_cat_s11 dxccs_cat_s12 dxccs_cat_s13 dxccs_cat_s14 dxccs_cat_s15 dxccs_cat_s16 dxccs_cat_s17 dxccs_cat_s18 dxccs_cat_s19 dxccs_cat_s20 dxccs_cat_s21 dxccs_cat_s22 dxccs_cat_s23 dxccs_cat_s24 dxccs_cat_s25 dxccs_cat_s26 dxccs_cat_s27 dxccs_cat_s28 dxccs_cat_s29 dxccs_cat_s30 dxccs_cat_s31 dxccs_cat_s32 dxccs_cat_s33 dxccs_cat_s34 dxccs_cat_s35 dxccs_cat_s36 dxccs_cat_s37 dxccs_cat_s38 dxccs_cat_s39 dxccs_cat_s40 dxccs_cat_s41 dxccs_cat_s42 dxccs_cat_s43 dxccs_cat_s44 dxccs_cat_s45 dxccs_cat_s46 dxccs_cat_s47 dxccs_cat_s48 dxccs_cat_s49 dxccs_cat_s50 dxccs_cat_s51 dxccs_cat_s52 dxccs_cat_s53 dxccs_cat_s54 dxccs_cat_s55 dxccs_cat_s56 dxccs_cat_s57 dxccs_cat_s58 dxccs_cat_s59 dxccs_cat_s60 dxccs_cat_s61 dxccs_cat_s62 dxccs_cat_s63 dxccs_cat_s64 dxccs_cat_s65 dxccs_cat_s66 dxccs_cat_s67 dxccs_cat_s68 dxccs_cat_s69 dxccs_cat_s70 dxccs_cat_s71 dxccs_cat_s72 dxccs_cat_s73 dxccs_cat_s74 dxccs_cat_s75 dxccs_cat_s76 dxccs_cat_s77 dxccs_cat_s78 dxccs_cat_s79 dxccs_cat_s80 dxccs_cat_s81 dxccs_cat_s82 dxccs_cat_s83 dxccs_cat_s84 dxccs_cat_s85 dxccs_cat_s86 dxccs_cat_s87 dxccs_cat_s88 dxccs_cat_s89 dxccs_cat_s90 dxccs_cat_s91 dxccs_cat_s92 dxccs_cat_s93 dxccs_cat_s94 dxccs_cat_s95 dxccs_cat_s96 dxccs_cat_s97 dxccs_cat_s98 dxccs_cat_s99 dxccs_cat_s100 dxccs_cat_s101 dxccs_cat_s102 dxccs_cat_s103 dxccs_cat_s104 dxccs_cat_s105 dxccs_cat_s106 dxccs_cat_s107 dxccs_cat_s108 dxccs_cat_s109 dxccs_cat_s110 dxccs_cat_s111 dxccs_cat_s112 dxccs_cat_s113 dxccs_cat_s114 dxccs_cat_s115 dxccs_cat_s116 dxccs_cat_s117 dxccs_cat_s118 dxccs_cat_s119 dxccs_cat_s120 dxccs_cat_s121 dxccs_cat_s122 dxccs_cat_s123 dxccs_cat_s124 dxccs_cat_s125 dxccs_cat_s126 dxccs_cat_s127 dxccs_cat_s128 dxccs_cat_s129 dxccs_cat_s130 dxccs_cat_s131 dxccs_cat_s132 dxccs_cat_s133 dxccs_cat_s134 dxccs_cat_s135 dxccs_cat_s136 dxccs_cat_s137 dxccs_cat_s138 dxccs_cat_s139 dxccs_cat_s140 dxccs_cat_s141 dxccs_cat_s142 dxccs_cat_s143 dxccs_cat_s144 dxccs_cat_s145 dxccs_cat_s146 dxccs_cat_s147 dxccs_cat_s148 dxccs_cat_s149 dxccs_cat_s150 dxccs_cat_s151 dxccs_cat_s152 dxccs_cat_s153 dxccs_cat_s154 dxccs_cat_s155 dxccs_cat_s156 dxccs_cat_s157 dxccs_cat_s158 dxccs_cat_s159 dxccs_cat_s160 dxccs_cat_s161 dxccs_cat_s162 dxccs_cat_s163 dxccs_cat_s164 dxccs_cat_s165 dxccs_cat_s166 dxccs_cat_s167 dxccs_cat_s168 dxccs_cat_s169 dxccs_cat_s170 dxccs_cat_s171 dxccs_cat_s172 dxccs_cat_s173 dxccs_cat_s174 dxccs_cat_s175 dxccs_cat_s176 dxccs_cat_s177 dxccs_cat_s178 dxccs_cat_s179 dxccs_cat_s180 dxccs_cat_s181 dxccs_cat_s182 dxccs_cat_s183 dxccs_cat_s184 dxccs_cat_s185 dxccs_cat_s186 dxccs_cat_s187 dxccs_cat_s188 dxccs_cat_s189 dxccs_cat_s190 dxccs_cat_s191 dxccs_cat_s192 dxccs_cat_s193 dxccs_cat_s194 dxccs_cat_s195 dxccs_cat_s196 dxccs_cat_s197 dxccs_cat_s198 dxccs_cat_s199 dxccs_cat_s200 dxccs_cat_s201 dxccs_cat_s202 dxccs_cat_s203 dxccs_cat_s204 dxccs_cat_s205 dxccs_cat_s206 dxccs_cat_s207 dxccs_cat_s208 dxccs_cat_s209 dxccs_cat_s210 dxccs_cat_s211 dxccs_cat_s212 dxccs_cat_s213 dxccs_cat_s214 dxccs_cat_s215 dxccs_cat_s216 dxccs_cat_s217 dxccs_cat_s218 dxccs_cat_s219 dxccs_cat_s220 dxccs_cat_s221 dxccs_cat_s222 dxccs_cat_s223 dxccs_cat_s224 dxccs_cat_s225 dxccs_cat_s226 dxccs_cat_s227 dxccs_cat_s228 dxccs_cat_s229 dxccs_cat_s230 dxccs_cat_s231 dxccs_cat_s232 dxccs_cat_s233 dxccs_cat_s234 dxccs_cat_s235 dxccs_cat_s236 dxccs_cat_s237 dxccs_cat_s238 dxccs_cat_s239 dxccs_cat_s240 dxccs_cat_s241 dxccs_cat_s242 dxccs_cat_s243 dxccs_cat_s244 dxccs_cat_s245 dxccs_cat_s246 dxccs_cat_s247 dxccs_cat_s248 dxccs_cat_s249 dxccs_cat_s250 dxccs_cat_s251 dxccs_cat_s252 dxccs_cat_s253 dxccs_cat_s254 dxccs_cat_s255 dxccs_cat_s256 dxccs_cat_s257 dxccs_cat_s258 dxccs_cat_s259 prccs_cat_s1 prccs_cat_s2 prccs_cat_s3 prccs_cat_s4 prccs_cat_s5 prccs_cat_s6 prccs_cat_s7 prccs_cat_s8 prccs_cat_s9 prccs_cat_s10 prccs_cat_s11 prccs_cat_s12 prccs_cat_s13 prccs_cat_s14 prccs_cat_s15 prccs_cat_s16 prccs_cat_s17 prccs_cat_s18 prccs_cat_s19 prccs_cat_s20 prccs_cat_s21 prccs_cat_s22 prccs_cat_s23 prccs_cat_s24 prccs_cat_s25 prccs_cat_s26 prccs_cat_s27 prccs_cat_s28 prccs_cat_s29 prccs_cat_s30 prccs_cat_s31 prccs_cat_s32 prccs_cat_s33 prccs_cat_s34 prccs_cat_s35 prccs_cat_s36 prccs_cat_s37 prccs_cat_s38 prccs_cat_s39 prccs_cat_s40 prccs_cat_s41 prccs_cat_s42 prccs_cat_s43 prccs_cat_s44 prccs_cat_s45 prccs_cat_s46 prccs_cat_s47 prccs_cat_s48 prccs_cat_s49 prccs_cat_s50 prccs_cat_s51 prccs_cat_s52 prccs_cat_s53 prccs_cat_s54 prccs_cat_s55 prccs_cat_s56 prccs_cat_s57 prccs_cat_s58 prccs_cat_s59 prccs_cat_s60 prccs_cat_s61 prccs_cat_s62 prccs_cat_s63 prccs_cat_s64 prccs_cat_s65 prccs_cat_s66 prccs_cat_s67 prccs_cat_s68 prccs_cat_s69 prccs_cat_s70 prccs_cat_s71 prccs_cat_s72 prccs_cat_s73 prccs_cat_s74 prccs_cat_s75 prccs_cat_s76 prccs_cat_s77 prccs_cat_s78 prccs_cat_s79 prccs_cat_s80 prccs_cat_s81 prccs_cat_s82 prccs_cat_s83 prccs_cat_s84 prccs_cat_s85 prccs_cat_s86 prccs_cat_s87 prccs_cat_s88 prccs_cat_s89 prccs_cat_s90 prccs_cat_s91 prccs_cat_s92 prccs_cat_s93 prccs_cat_s94 prccs_cat_s95 prccs_cat_s96 prccs_cat_s97 prccs_cat_s98 prccs_cat_s99 prccs_cat_s100 prccs_cat_s101 prccs_cat_s102 prccs_cat_s103 prccs_cat_s104 prccs_cat_s105 prccs_cat_s106 prccs_cat_s107 prccs_cat_s108 prccs_cat_s109 prccs_cat_s110 prccs_cat_s111 prccs_cat_s112 prccs_cat_s113 prccs_cat_s114 prccs_cat_s115 prccs_cat_s116 prccs_cat_s117 prccs_cat_s118 prccs_cat_s119 prccs_cat_s120 prccs_cat_s121 prccs_cat_s122 prccs_cat_s123 prccs_cat_s124 prccs_cat_s125 prccs_cat_s126 prccs_cat_s127 prccs_cat_s128 prccs_cat_s129 prccs_cat_s130 prccs_cat_s131 prccs_cat_s132 prccs_cat_s133 prccs_cat_s134 prccs_cat_s135 prccs_cat_s136 prccs_cat_s137 prccs_cat_s138 prccs_cat_s139 prccs_cat_s140 prccs_cat_s141 prccs_cat_s142 prccs_cat_s143 prccs_cat_s144 prccs_cat_s145 prccs_cat_s146 prccs_cat_s147 prccs_cat_s148 prccs_cat_s149 prccs_cat_s150 prccs_cat_s151 prccs_cat_s152 prccs_cat_s153 prccs_cat_s154 prccs_cat_s155 prccs_cat_s156 prccs_cat_s157 prccs_cat_s158 prccs_cat_s159 prccs_cat_s160 prccs_cat_s161 prccs_cat_s162 prccs_cat_s163 prccs_cat_s164 prccs_cat_s165 prccs_cat_s166 prccs_cat_s167 prccs_cat_s168 prccs_cat_s169 prccs_cat_s170 prccs_cat_s171 prccs_cat_s172 prccs_cat_s173 prccs_cat_s174 prccs_cat_s175 prccs_cat_s176 prccs_cat_s177 prccs_cat_s178 prccs_cat_s179 prccs_cat_s180 prccs_cat_s181 prccs_cat_s182 prccs_cat_s183 prccs_cat_s184 prccs_cat_s185 prccs_cat_s186 prccs_cat_s187 prccs_cat_s188 prccs_cat_s189 prccs_cat_s190 prccs_cat_s191 prccs_cat_s192 prccs_cat_s193 prccs_cat_s194 prccs_cat_s195 prccs_cat_s196 prccs_cat_s197 prccs_cat_s198 prccs_cat_s199 prccs_cat_s200 prccs_cat_s201 prccs_cat_s202 prccs_cat_s203 prccs_cat_s204 prccs_cat_s205 prccs_cat_s206 prccs_cat_s207 prccs_cat_s208 prccs_cat_s209 prccs_cat_s210 prccs_cat_s211 prccs_cat_s212 prccs_cat_s213 prccs_cat_s214 prccs_cat_s215 prccs_cat_s216 prccs_cat_s217 prccs_cat_s218 prccs_cat_s219 prccs_cat_s220 prccs_cat_s221 prccs_cat_s222 prccs_cat_s223 prccs_cat_s224 prccs_cat_s225 prccs_cat_s226 prccs_cat_s227 prccs_cat_s228 prccs_cat_s229 prccs_cat_s230 prccs_cat_s231 dxccs_cat_p650 dxccs_cat_s650 dxccs_cat_p651 dxccs_cat_s651 dxccs_cat_p652 dxccs_cat_s652 dxccs_cat_p653 dxccs_cat_s653 dxccs_cat_p654 dxccs_cat_s654 dxccs_cat_p655 dxccs_cat_s655 dxccs_cat_p656 dxccs_cat_s656 dxccs_cat_p657 dxccs_cat_s657 dxccs_cat_p658 dxccs_cat_s658 dxccs_cat_p659 dxccs_cat_s659 dxccs_cat_p660 dxccs_cat_s660 dxccs_cat_p661 dxccs_cat_s661 dxccs_cat_p662 dxccs_cat_s662 dxccs_cat_p663 dxccs_cat_s663 dxccs_cat_p670 dxccs_cat_s670 dxccs_cat_o1 dxccs_cat_o2 dxccs_cat_o3 dxccs_cat_o4 dxccs_cat_o5 dxccs_cat_o6 dxccs_cat_o7 dxccs_cat_o8 dxccs_cat_o9 dxccs_cat_o10 dxccs_cat_o11 dxccs_cat_o12 dxccs_cat_o13 dxccs_cat_o14 dxccs_cat_o15 dxccs_cat_o16 dxccs_cat_o17 dxccs_cat_o18 dxccs_cat_o19 dxccs_cat_o20 dxccs_cat_o21 dxccs_cat_o22 dxccs_cat_o23 dxccs_cat_o24 dxccs_cat_o25 dxccs_cat_o26 dxccs_cat_o27 dxccs_cat_o28 dxccs_cat_o29 dxccs_cat_o30 dxccs_cat_o31 dxccs_cat_o32 dxccs_cat_o33 dxccs_cat_o34 dxccs_cat_o35 dxccs_cat_o36 dxccs_cat_o37 dxccs_cat_o38 dxccs_cat_o39 dxccs_cat_o40 dxccs_cat_o41 dxccs_cat_o42 dxccs_cat_o43 dxccs_cat_o44 dxccs_cat_o45 dxccs_cat_o46 dxccs_cat_o47 dxccs_cat_o48 dxccs_cat_o49 dxccs_cat_o50 dxccs_cat_o51 dxccs_cat_o52 dxccs_cat_o53 dxccs_cat_o54 dxccs_cat_o55 dxccs_cat_o56 dxccs_cat_o57 dxccs_cat_o58 dxccs_cat_o59 dxccs_cat_o60 dxccs_cat_o61 dxccs_cat_o62 dxccs_cat_o63 dxccs_cat_o64 dxccs_cat_o65 dxccs_cat_o66 dxccs_cat_o67 dxccs_cat_o68 dxccs_cat_o69 dxccs_cat_o70 dxccs_cat_o71 dxccs_cat_o72 dxccs_cat_o73 dxccs_cat_o74 dxccs_cat_o75 dxccs_cat_o76 dxccs_cat_o77 dxccs_cat_o78 dxccs_cat_o79 dxccs_cat_o80 dxccs_cat_o81 dxccs_cat_o82 dxccs_cat_o83 dxccs_cat_o84 dxccs_cat_o85 dxccs_cat_o86 dxccs_cat_o87 dxccs_cat_o88 dxccs_cat_o89 dxccs_cat_o90 dxccs_cat_o91 dxccs_cat_o92 dxccs_cat_o93 dxccs_cat_o94 dxccs_cat_o95 dxccs_cat_o96 dxccs_cat_o97 dxccs_cat_o98 dxccs_cat_o99 dxccs_cat_o100 dxccs_cat_o101 dxccs_cat_o102 dxccs_cat_o103 dxccs_cat_o104 dxccs_cat_o105 dxccs_cat_o106 dxccs_cat_o107 dxccs_cat_o108 dxccs_cat_o109 dxccs_cat_o110 dxccs_cat_o111 dxccs_cat_o112 dxccs_cat_o113 dxccs_cat_o114 dxccs_cat_o115 dxccs_cat_o116 dxccs_cat_o117 dxccs_cat_o118 dxccs_cat_o119 dxccs_cat_o120 dxccs_cat_o121 dxccs_cat_o122 dxccs_cat_o123 dxccs_cat_o124 dxccs_cat_o125 dxccs_cat_o126 dxccs_cat_o127 dxccs_cat_o128 dxccs_cat_o129 dxccs_cat_o130 dxccs_cat_o131 dxccs_cat_o132 dxccs_cat_o133 dxccs_cat_o134 dxccs_cat_o135 dxccs_cat_o136 dxccs_cat_o137 dxccs_cat_o138 dxccs_cat_o139 dxccs_cat_o140 dxccs_cat_o141 dxccs_cat_o142 dxccs_cat_o143 dxccs_cat_o144 dxccs_cat_o145 dxccs_cat_o146 dxccs_cat_o147 dxccs_cat_o148 dxccs_cat_o149 dxccs_cat_o150 dxccs_cat_o151 dxccs_cat_o152 dxccs_cat_o153 dxccs_cat_o154 dxccs_cat_o155 dxccs_cat_o156 dxccs_cat_o157 dxccs_cat_o158 dxccs_cat_o159 dxccs_cat_o160 dxccs_cat_o161 dxccs_cat_o162 dxccs_cat_o163 dxccs_cat_o164 dxccs_cat_o165 dxccs_cat_o166 dxccs_cat_o167 dxccs_cat_o168 dxccs_cat_o169 dxccs_cat_o170 dxccs_cat_o171 dxccs_cat_o172 dxccs_cat_o173 dxccs_cat_o174 dxccs_cat_o175 dxccs_cat_o176 dxccs_cat_o177 dxccs_cat_o178 dxccs_cat_o179 dxccs_cat_o180 dxccs_cat_o181 dxccs_cat_o182 dxccs_cat_o183 dxccs_cat_o184 dxccs_cat_o185 dxccs_cat_o186 dxccs_cat_o187 dxccs_cat_o188 dxccs_cat_o189 dxccs_cat_o190 dxccs_cat_o191 dxccs_cat_o192 dxccs_cat_o193 dxccs_cat_o194 dxccs_cat_o195 dxccs_cat_o196 dxccs_cat_o197 dxccs_cat_o198 dxccs_cat_o199 dxccs_cat_o200 dxccs_cat_o201 dxccs_cat_o202 dxccs_cat_o203 dxccs_cat_o204 dxccs_cat_o205 dxccs_cat_o206 dxccs_cat_o207 dxccs_cat_o208 dxccs_cat_o209 dxccs_cat_o210 dxccs_cat_o211 dxccs_cat_o212 dxccs_cat_o213 dxccs_cat_o214 dxccs_cat_o215 dxccs_cat_o216 dxccs_cat_o217 dxccs_cat_o218 dxccs_cat_o219 dxccs_cat_o220 dxccs_cat_o221 dxccs_cat_o222 dxccs_cat_o223 dxccs_cat_o224 dxccs_cat_o225 dxccs_cat_o226 dxccs_cat_o227 dxccs_cat_o228 dxccs_cat_o229 dxccs_cat_o230 dxccs_cat_o231 dxccs_cat_o232 dxccs_cat_o233 dxccs_cat_o234 dxccs_cat_o235 dxccs_cat_o236 dxccs_cat_o237 dxccs_cat_o238 dxccs_cat_o239 dxccs_cat_o240 dxccs_cat_o241 dxccs_cat_o242 dxccs_cat_o243 dxccs_cat_o244 dxccs_cat_o245 dxccs_cat_o246 dxccs_cat_o247 dxccs_cat_o248 dxccs_cat_o249 dxccs_cat_o250 dxccs_cat_o251 dxccs_cat_o252 dxccs_cat_o253 dxccs_cat_o254 dxccs_cat_o255 dxccs_cat_o256 dxccs_cat_o257 dxccs_cat_o258 dxccs_cat_o259 dxccs_cat_o650 dxccs_cat_o651 dxccs_cat_o652 dxccs_cat_o653 dxccs_cat_o654 dxccs_cat_o655 dxccs_cat_o656 dxccs_cat_o657 dxccs_cat_o658 dxccs_cat_o659 dxccs_cat_o660 dxccs_cat_o661 dxccs_cat_o662 dxccs_cat_o663 dxccs_cat_o670'],\n",
              "      dtype=object)"
            ]
          },
          "metadata": {},
          "execution_count": 41
        }
      ]
    },
    {
      "cell_type": "code",
      "source": [
        "df_train.head()"
      ],
      "metadata": {
        "colab": {
          "base_uri": "https://localhost:8080/",
          "height": 300
        },
        "id": "W1VcvtdTD45N",
        "outputId": "3c07b3dc-7385-438a-92e6-979248f2603c"
      },
      "execution_count": 44,
      "outputs": [
        {
          "output_type": "execute_result",
          "data": {
            "text/plain": [
              "   AGE  DIED  ELECTIVE  FEMALE  RACE  YEAR  ZIPInc_Qrtl  CHF  NEURO  CHRNLUNG  \\\n",
              "0   87     1         0       0   1.0  2014          3.0    0      0         1   \n",
              "1   83     1         0       0   1.0  2012          4.0    0      0         0   \n",
              "2   85     0         0       0   2.0  2013          4.0    0      1         0   \n",
              "3   65     1         0       1   1.0  2012          3.0    1      0         0   \n",
              "4   88     1         0       0   1.0  2013          4.0    1      0         0   \n",
              "\n",
              "   ...  dxccs_cat_o655  dxccs_cat_o656  dxccs_cat_o657  dxccs_cat_o658  \\\n",
              "0  ...               0               0               1               0   \n",
              "1  ...               0               0               0               0   \n",
              "2  ...               0               0               0               0   \n",
              "3  ...               0               0               0               0   \n",
              "4  ...               0               0               0               0   \n",
              "\n",
              "   dxccs_cat_o659  dxccs_cat_o660  dxccs_cat_o661  dxccs_cat_o662  \\\n",
              "0               0               0               0               0   \n",
              "1               0               0               0               0   \n",
              "2               0               0               0               0   \n",
              "3               0               0               0               0   \n",
              "4               0               0               0               0   \n",
              "\n",
              "   dxccs_cat_o663  dxccs_cat_o670  \n",
              "0               0               0  \n",
              "1               0               0  \n",
              "2               0               0  \n",
              "3               0               0  \n",
              "4               0               0  \n",
              "\n",
              "[5 rows x 1330 columns]"
            ],
            "text/html": [
              "\n",
              "  <div id=\"df-8c404d8e-7a17-4477-8d75-05dda31f7eae\">\n",
              "    <div class=\"colab-df-container\">\n",
              "      <div>\n",
              "<style scoped>\n",
              "    .dataframe tbody tr th:only-of-type {\n",
              "        vertical-align: middle;\n",
              "    }\n",
              "\n",
              "    .dataframe tbody tr th {\n",
              "        vertical-align: top;\n",
              "    }\n",
              "\n",
              "    .dataframe thead th {\n",
              "        text-align: right;\n",
              "    }\n",
              "</style>\n",
              "<table border=\"1\" class=\"dataframe\">\n",
              "  <thead>\n",
              "    <tr style=\"text-align: right;\">\n",
              "      <th></th>\n",
              "      <th>AGE</th>\n",
              "      <th>DIED</th>\n",
              "      <th>ELECTIVE</th>\n",
              "      <th>FEMALE</th>\n",
              "      <th>RACE</th>\n",
              "      <th>YEAR</th>\n",
              "      <th>ZIPInc_Qrtl</th>\n",
              "      <th>CHF</th>\n",
              "      <th>NEURO</th>\n",
              "      <th>CHRNLUNG</th>\n",
              "      <th>...</th>\n",
              "      <th>dxccs_cat_o655</th>\n",
              "      <th>dxccs_cat_o656</th>\n",
              "      <th>dxccs_cat_o657</th>\n",
              "      <th>dxccs_cat_o658</th>\n",
              "      <th>dxccs_cat_o659</th>\n",
              "      <th>dxccs_cat_o660</th>\n",
              "      <th>dxccs_cat_o661</th>\n",
              "      <th>dxccs_cat_o662</th>\n",
              "      <th>dxccs_cat_o663</th>\n",
              "      <th>dxccs_cat_o670</th>\n",
              "    </tr>\n",
              "  </thead>\n",
              "  <tbody>\n",
              "    <tr>\n",
              "      <th>0</th>\n",
              "      <td>87</td>\n",
              "      <td>1</td>\n",
              "      <td>0</td>\n",
              "      <td>0</td>\n",
              "      <td>1.0</td>\n",
              "      <td>2014</td>\n",
              "      <td>3.0</td>\n",
              "      <td>0</td>\n",
              "      <td>0</td>\n",
              "      <td>1</td>\n",
              "      <td>...</td>\n",
              "      <td>0</td>\n",
              "      <td>0</td>\n",
              "      <td>1</td>\n",
              "      <td>0</td>\n",
              "      <td>0</td>\n",
              "      <td>0</td>\n",
              "      <td>0</td>\n",
              "      <td>0</td>\n",
              "      <td>0</td>\n",
              "      <td>0</td>\n",
              "    </tr>\n",
              "    <tr>\n",
              "      <th>1</th>\n",
              "      <td>83</td>\n",
              "      <td>1</td>\n",
              "      <td>0</td>\n",
              "      <td>0</td>\n",
              "      <td>1.0</td>\n",
              "      <td>2012</td>\n",
              "      <td>4.0</td>\n",
              "      <td>0</td>\n",
              "      <td>0</td>\n",
              "      <td>0</td>\n",
              "      <td>...</td>\n",
              "      <td>0</td>\n",
              "      <td>0</td>\n",
              "      <td>0</td>\n",
              "      <td>0</td>\n",
              "      <td>0</td>\n",
              "      <td>0</td>\n",
              "      <td>0</td>\n",
              "      <td>0</td>\n",
              "      <td>0</td>\n",
              "      <td>0</td>\n",
              "    </tr>\n",
              "    <tr>\n",
              "      <th>2</th>\n",
              "      <td>85</td>\n",
              "      <td>0</td>\n",
              "      <td>0</td>\n",
              "      <td>0</td>\n",
              "      <td>2.0</td>\n",
              "      <td>2013</td>\n",
              "      <td>4.0</td>\n",
              "      <td>0</td>\n",
              "      <td>1</td>\n",
              "      <td>0</td>\n",
              "      <td>...</td>\n",
              "      <td>0</td>\n",
              "      <td>0</td>\n",
              "      <td>0</td>\n",
              "      <td>0</td>\n",
              "      <td>0</td>\n",
              "      <td>0</td>\n",
              "      <td>0</td>\n",
              "      <td>0</td>\n",
              "      <td>0</td>\n",
              "      <td>0</td>\n",
              "    </tr>\n",
              "    <tr>\n",
              "      <th>3</th>\n",
              "      <td>65</td>\n",
              "      <td>1</td>\n",
              "      <td>0</td>\n",
              "      <td>1</td>\n",
              "      <td>1.0</td>\n",
              "      <td>2012</td>\n",
              "      <td>3.0</td>\n",
              "      <td>1</td>\n",
              "      <td>0</td>\n",
              "      <td>0</td>\n",
              "      <td>...</td>\n",
              "      <td>0</td>\n",
              "      <td>0</td>\n",
              "      <td>0</td>\n",
              "      <td>0</td>\n",
              "      <td>0</td>\n",
              "      <td>0</td>\n",
              "      <td>0</td>\n",
              "      <td>0</td>\n",
              "      <td>0</td>\n",
              "      <td>0</td>\n",
              "    </tr>\n",
              "    <tr>\n",
              "      <th>4</th>\n",
              "      <td>88</td>\n",
              "      <td>1</td>\n",
              "      <td>0</td>\n",
              "      <td>0</td>\n",
              "      <td>1.0</td>\n",
              "      <td>2013</td>\n",
              "      <td>4.0</td>\n",
              "      <td>1</td>\n",
              "      <td>0</td>\n",
              "      <td>0</td>\n",
              "      <td>...</td>\n",
              "      <td>0</td>\n",
              "      <td>0</td>\n",
              "      <td>0</td>\n",
              "      <td>0</td>\n",
              "      <td>0</td>\n",
              "      <td>0</td>\n",
              "      <td>0</td>\n",
              "      <td>0</td>\n",
              "      <td>0</td>\n",
              "      <td>0</td>\n",
              "    </tr>\n",
              "  </tbody>\n",
              "</table>\n",
              "<p>5 rows × 1330 columns</p>\n",
              "</div>\n",
              "      <button class=\"colab-df-convert\" onclick=\"convertToInteractive('df-8c404d8e-7a17-4477-8d75-05dda31f7eae')\"\n",
              "              title=\"Convert this dataframe to an interactive table.\"\n",
              "              style=\"display:none;\">\n",
              "        \n",
              "  <svg xmlns=\"http://www.w3.org/2000/svg\" height=\"24px\"viewBox=\"0 0 24 24\"\n",
              "       width=\"24px\">\n",
              "    <path d=\"M0 0h24v24H0V0z\" fill=\"none\"/>\n",
              "    <path d=\"M18.56 5.44l.94 2.06.94-2.06 2.06-.94-2.06-.94-.94-2.06-.94 2.06-2.06.94zm-11 1L8.5 8.5l.94-2.06 2.06-.94-2.06-.94L8.5 2.5l-.94 2.06-2.06.94zm10 10l.94 2.06.94-2.06 2.06-.94-2.06-.94-.94-2.06-.94 2.06-2.06.94z\"/><path d=\"M17.41 7.96l-1.37-1.37c-.4-.4-.92-.59-1.43-.59-.52 0-1.04.2-1.43.59L10.3 9.45l-7.72 7.72c-.78.78-.78 2.05 0 2.83L4 21.41c.39.39.9.59 1.41.59.51 0 1.02-.2 1.41-.59l7.78-7.78 2.81-2.81c.8-.78.8-2.07 0-2.86zM5.41 20L4 18.59l7.72-7.72 1.47 1.35L5.41 20z\"/>\n",
              "  </svg>\n",
              "      </button>\n",
              "      \n",
              "  <style>\n",
              "    .colab-df-container {\n",
              "      display:flex;\n",
              "      flex-wrap:wrap;\n",
              "      gap: 12px;\n",
              "    }\n",
              "\n",
              "    .colab-df-convert {\n",
              "      background-color: #E8F0FE;\n",
              "      border: none;\n",
              "      border-radius: 50%;\n",
              "      cursor: pointer;\n",
              "      display: none;\n",
              "      fill: #1967D2;\n",
              "      height: 32px;\n",
              "      padding: 0 0 0 0;\n",
              "      width: 32px;\n",
              "    }\n",
              "\n",
              "    .colab-df-convert:hover {\n",
              "      background-color: #E2EBFA;\n",
              "      box-shadow: 0px 1px 2px rgba(60, 64, 67, 0.3), 0px 1px 3px 1px rgba(60, 64, 67, 0.15);\n",
              "      fill: #174EA6;\n",
              "    }\n",
              "\n",
              "    [theme=dark] .colab-df-convert {\n",
              "      background-color: #3B4455;\n",
              "      fill: #D2E3FC;\n",
              "    }\n",
              "\n",
              "    [theme=dark] .colab-df-convert:hover {\n",
              "      background-color: #434B5C;\n",
              "      box-shadow: 0px 1px 3px 1px rgba(0, 0, 0, 0.15);\n",
              "      filter: drop-shadow(0px 1px 2px rgba(0, 0, 0, 0.3));\n",
              "      fill: #FFFFFF;\n",
              "    }\n",
              "  </style>\n",
              "\n",
              "      <script>\n",
              "        const buttonEl =\n",
              "          document.querySelector('#df-8c404d8e-7a17-4477-8d75-05dda31f7eae button.colab-df-convert');\n",
              "        buttonEl.style.display =\n",
              "          google.colab.kernel.accessAllowed ? 'block' : 'none';\n",
              "\n",
              "        async function convertToInteractive(key) {\n",
              "          const element = document.querySelector('#df-8c404d8e-7a17-4477-8d75-05dda31f7eae');\n",
              "          const dataTable =\n",
              "            await google.colab.kernel.invokeFunction('convertToInteractive',\n",
              "                                                     [key], {});\n",
              "          if (!dataTable) return;\n",
              "\n",
              "          const docLinkHtml = 'Like what you see? Visit the ' +\n",
              "            '<a target=\"_blank\" href=https://colab.research.google.com/notebooks/data_table.ipynb>data table notebook</a>'\n",
              "            + ' to learn more about interactive tables.';\n",
              "          element.innerHTML = '';\n",
              "          dataTable['output_type'] = 'display_data';\n",
              "          await google.colab.output.renderOutput(dataTable, element);\n",
              "          const docLink = document.createElement('div');\n",
              "          docLink.innerHTML = docLinkHtml;\n",
              "          element.appendChild(docLink);\n",
              "        }\n",
              "      </script>\n",
              "    </div>\n",
              "  </div>\n",
              "  "
            ]
          },
          "metadata": {},
          "execution_count": 44
        }
      ]
    },
    {
      "cell_type": "code",
      "source": [
        "predictors = list(df_train.columns.values)\n",
        "predictors.remove('DIED')\n",
        "print(type(predictors))\n",
        "outcome = 'DIED'"
      ],
      "metadata": {
        "colab": {
          "base_uri": "https://localhost:8080/"
        },
        "id": "Hk_lL3-MYhlo",
        "outputId": "5a710f86-9cf6-423c-f388-527add59a1c8"
      },
      "execution_count": 8,
      "outputs": [
        {
          "output_type": "stream",
          "name": "stdout",
          "text": [
            "<class 'list'>\n"
          ]
        }
      ]
    },
    {
      "cell_type": "code",
      "source": [
        "df_train.shape"
      ],
      "metadata": {
        "colab": {
          "base_uri": "https://localhost:8080/"
        },
        "id": "WgVV4LWBWun7",
        "outputId": "b07b9c1d-41d7-4162-b57c-18779cde2c58"
      },
      "execution_count": 39,
      "outputs": [
        {
          "output_type": "execute_result",
          "data": {
            "text/plain": [
              "(100, 1)"
            ]
          },
          "metadata": {},
          "execution_count": 39
        }
      ]
    },
    {
      "cell_type": "markdown",
      "source": [
        "Outcome classes"
      ],
      "metadata": {
        "id": "AL57d9sCbCSN"
      }
    },
    {
      "cell_type": "code",
      "source": [
        "df_train[outcome].hist()"
      ],
      "metadata": {
        "colab": {
          "base_uri": "https://localhost:8080/",
          "height": 282
        },
        "id": "fxvSohaFhd_o",
        "outputId": "fa0bf6f6-5b2c-4f07-c0dc-b03e8dd1f610"
      },
      "execution_count": 40,
      "outputs": [
        {
          "output_type": "execute_result",
          "data": {
            "text/plain": [
              "<matplotlib.axes._subplots.AxesSubplot at 0x7f1c612ea110>"
            ]
          },
          "metadata": {},
          "execution_count": 40
        },
        {
          "output_type": "display_data",
          "data": {
            "text/plain": [
              "<Figure size 432x288 with 1 Axes>"
            ],
            "image/png": "[encoded data removed]"
          },
          "metadata": {
            "needs_background": "light"
          }
        }
      ]
    },
    {
      "cell_type": "code",
      "source": [
        "df_train.info()"
      ],
      "metadata": {
        "colab": {
          "base_uri": "https://localhost:8080/"
        },
        "id": "4aC-xRmMiFfn",
        "outputId": "0c97d9d3-a1d0-4f38-87e6-1c120301c586"
      },
      "execution_count": 11,
      "outputs": [
        {
          "output_type": "stream",
          "name": "stdout",
          "text": [
            "<class 'pandas.core.frame.DataFrame'>\n",
            "RangeIndex: 2000 entries, 0 to 1999\n",
            "Columns: 1323 entries, AGE to dxccs_cat_o670\n",
            "dtypes: int64(1323)\n",
            "memory usage: 20.2 MB\n"
          ]
        }
      ]
    },
    {
      "cell_type": "code",
      "source": [
        "df_train.describe()"
      ],
      "metadata": {
        "colab": {
          "base_uri": "https://localhost:8080/",
          "height": 394
        },
        "id": "KDM3zMgkhy2v",
        "outputId": "b94e2dfd-cb7d-4bfd-e6bf-158e0bf0fe64"
      },
      "execution_count": 12,
      "outputs": [
        {
          "output_type": "execute_result",
          "data": {
            "text/plain": [
              "               AGE         DIED     ELECTIVE       FEMALE         RACE  \\\n",
              "count  2000.000000  2000.000000  2000.000000  2000.000000  2000.000000   \n",
              "mean     68.028000     0.221000     0.070000     0.494500     1.534000   \n",
              "std      16.570411     0.415024     0.255211     0.500095     1.072576   \n",
              "min      18.000000     0.000000     0.000000     0.000000     1.000000   \n",
              "25%      57.000000     0.000000     0.000000     0.000000     1.000000   \n",
              "50%      70.000000     0.000000     0.000000     0.000000     1.000000   \n",
              "75%      82.000000     0.000000     0.000000     1.000000     2.000000   \n",
              "max     101.000000     1.000000     1.000000     1.000000     6.000000   \n",
              "\n",
              "       ZIPInc_Qrtl         CHF        NEURO     CHRNLUNG      HYPOTHY  ...  \\\n",
              "count  2000.000000  2000.00000  2000.000000  2000.000000  2000.000000  ...   \n",
              "mean      2.340500     0.25650     0.152500     0.257000     0.135500  ...   \n",
              "std       1.116774     0.43681     0.359595     0.437089     0.342342  ...   \n",
              "min       1.000000     0.00000     0.000000     0.000000     0.000000  ...   \n",
              "25%       1.000000     0.00000     0.000000     0.000000     0.000000  ...   \n",
              "50%       2.000000     0.00000     0.000000     0.000000     0.000000  ...   \n",
              "75%       3.000000     1.00000     0.000000     1.000000     0.000000  ...   \n",
              "max       4.000000     1.00000     1.000000     1.000000     1.000000  ...   \n",
              "\n",
              "       dxccs_cat_o655  dxccs_cat_o656  dxccs_cat_o657  dxccs_cat_o658  \\\n",
              "count     2000.000000          2000.0     2000.000000     2000.000000   \n",
              "mean         0.001000             0.0        0.138000        0.001000   \n",
              "std          0.031615             0.0        0.344986        0.031615   \n",
              "min          0.000000             0.0        0.000000        0.000000   \n",
              "25%          0.000000             0.0        0.000000        0.000000   \n",
              "50%          0.000000             0.0        0.000000        0.000000   \n",
              "75%          0.000000             0.0        0.000000        0.000000   \n",
              "max          1.000000             0.0        1.000000        1.000000   \n",
              "\n",
              "       dxccs_cat_o659  dxccs_cat_o660  dxccs_cat_o661  dxccs_cat_o662  \\\n",
              "count      2000.00000     2000.000000     2000.000000     2000.000000   \n",
              "mean          0.02200        0.044500        0.040000        0.000500   \n",
              "std           0.14672        0.206255        0.196008        0.022361   \n",
              "min           0.00000        0.000000        0.000000        0.000000   \n",
              "25%           0.00000        0.000000        0.000000        0.000000   \n",
              "50%           0.00000        0.000000        0.000000        0.000000   \n",
              "75%           0.00000        0.000000        0.000000        0.000000   \n",
              "max           1.00000        1.000000        1.000000        1.000000   \n",
              "\n",
              "       dxccs_cat_o663  dxccs_cat_o670  \n",
              "count     2000.000000      2000.00000  \n",
              "mean         0.202500         0.00250  \n",
              "std          0.401963         0.04995  \n",
              "min          0.000000         0.00000  \n",
              "25%          0.000000         0.00000  \n",
              "50%          0.000000         0.00000  \n",
              "75%          0.000000         0.00000  \n",
              "max          1.000000         1.00000  \n",
              "\n",
              "[8 rows x 1323 columns]"
            ],
            "text/html": [
              "\n",
              "  <div id=\"df-924a6083-012c-4895-9ecd-d467f8b9247c\">\n",
              "    <div class=\"colab-df-container\">\n",
              "      <div>\n",
              "<style scoped>\n",
              "    .dataframe tbody tr th:only-of-type {\n",
              "        vertical-align: middle;\n",
              "    }\n",
              "\n",
              "    .dataframe tbody tr th {\n",
              "        vertical-align: top;\n",
              "    }\n",
              "\n",
              "    .dataframe thead th {\n",
              "        text-align: right;\n",
              "    }\n",
              "</style>\n",
              "<table border=\"1\" class=\"dataframe\">\n",
              "  <thead>\n",
              "    <tr style=\"text-align: right;\">\n",
              "      <th></th>\n",
              "      <th>AGE</th>\n",
              "      <th>DIED</th>\n",
              "      <th>ELECTIVE</th>\n",
              "      <th>FEMALE</th>\n",
              "      <th>RACE</th>\n",
              "      <th>ZIPInc_Qrtl</th>\n",
              "      <th>CHF</th>\n",
              "      <th>NEURO</th>\n",
              "      <th>CHRNLUNG</th>\n",
              "      <th>HYPOTHY</th>\n",
              "      <th>...</th>\n",
              "      <th>dxccs_cat_o655</th>\n",
              "      <th>dxccs_cat_o656</th>\n",
              "      <th>dxccs_cat_o657</th>\n",
              "      <th>dxccs_cat_o658</th>\n",
              "      <th>dxccs_cat_o659</th>\n",
              "      <th>dxccs_cat_o660</th>\n",
              "      <th>dxccs_cat_o661</th>\n",
              "      <th>dxccs_cat_o662</th>\n",
              "      <th>dxccs_cat_o663</th>\n",
              "      <th>dxccs_cat_o670</th>\n",
              "    </tr>\n",
              "  </thead>\n",
              "  <tbody>\n",
              "    <tr>\n",
              "      <th>count</th>\n",
              "      <td>2000.000000</td>\n",
              "      <td>2000.000000</td>\n",
              "      <td>2000.000000</td>\n",
              "      <td>2000.000000</td>\n",
              "      <td>2000.000000</td>\n",
              "      <td>2000.000000</td>\n",
              "      <td>2000.00000</td>\n",
              "      <td>2000.000000</td>\n",
              "      <td>2000.000000</td>\n",
              "      <td>2000.000000</td>\n",
              "      <td>...</td>\n",
              "      <td>2000.000000</td>\n",
              "      <td>2000.0</td>\n",
              "      <td>2000.000000</td>\n",
              "      <td>2000.000000</td>\n",
              "      <td>2000.00000</td>\n",
              "      <td>2000.000000</td>\n",
              "      <td>2000.000000</td>\n",
              "      <td>2000.000000</td>\n",
              "      <td>2000.000000</td>\n",
              "      <td>2000.00000</td>\n",
              "    </tr>\n",
              "    <tr>\n",
              "      <th>mean</th>\n",
              "      <td>68.028000</td>\n",
              "      <td>0.221000</td>\n",
              "      <td>0.070000</td>\n",
              "      <td>0.494500</td>\n",
              "      <td>1.534000</td>\n",
              "      <td>2.340500</td>\n",
              "      <td>0.25650</td>\n",
              "      <td>0.152500</td>\n",
              "      <td>0.257000</td>\n",
              "      <td>0.135500</td>\n",
              "      <td>...</td>\n",
              "      <td>0.001000</td>\n",
              "      <td>0.0</td>\n",
              "      <td>0.138000</td>\n",
              "      <td>0.001000</td>\n",
              "      <td>0.02200</td>\n",
              "      <td>0.044500</td>\n",
              "      <td>0.040000</td>\n",
              "      <td>0.000500</td>\n",
              "      <td>0.202500</td>\n",
              "      <td>0.00250</td>\n",
              "    </tr>\n",
              "    <tr>\n",
              "      <th>std</th>\n",
              "      <td>16.570411</td>\n",
              "      <td>0.415024</td>\n",
              "      <td>0.255211</td>\n",
              "      <td>0.500095</td>\n",
              "      <td>1.072576</td>\n",
              "      <td>1.116774</td>\n",
              "      <td>0.43681</td>\n",
              "      <td>0.359595</td>\n",
              "      <td>0.437089</td>\n",
              "      <td>0.342342</td>\n",
              "      <td>...</td>\n",
              "      <td>0.031615</td>\n",
              "      <td>0.0</td>\n",
              "      <td>0.344986</td>\n",
              "      <td>0.031615</td>\n",
              "      <td>0.14672</td>\n",
              "      <td>0.206255</td>\n",
              "      <td>0.196008</td>\n",
              "      <td>0.022361</td>\n",
              "      <td>0.401963</td>\n",
              "      <td>0.04995</td>\n",
              "    </tr>\n",
              "    <tr>\n",
              "      <th>min</th>\n",
              "      <td>18.000000</td>\n",
              "      <td>0.000000</td>\n",
              "      <td>0.000000</td>\n",
              "      <td>0.000000</td>\n",
              "      <td>1.000000</td>\n",
              "      <td>1.000000</td>\n",
              "      <td>0.00000</td>\n",
              "      <td>0.000000</td>\n",
              "      <td>0.000000</td>\n",
              "      <td>0.000000</td>\n",
              "      <td>...</td>\n",
              "      <td>0.000000</td>\n",
              "      <td>0.0</td>\n",
              "      <td>0.000000</td>\n",
              "      <td>0.000000</td>\n",
              "      <td>0.00000</td>\n",
              "      <td>0.000000</td>\n",
              "      <td>0.000000</td>\n",
              "      <td>0.000000</td>\n",
              "      <td>0.000000</td>\n",
              "      <td>0.00000</td>\n",
              "    </tr>\n",
              "    <tr>\n",
              "      <th>25%</th>\n",
              "      <td>57.000000</td>\n",
              "      <td>0.000000</td>\n",
              "      <td>0.000000</td>\n",
              "      <td>0.000000</td>\n",
              "      <td>1.000000</td>\n",
              "      <td>1.000000</td>\n",
              "      <td>0.00000</td>\n",
              "      <td>0.000000</td>\n",
              "      <td>0.000000</td>\n",
              "      <td>0.000000</td>\n",
              "      <td>...</td>\n",
              "      <td>0.000000</td>\n",
              "      <td>0.0</td>\n",
              "      <td>0.000000</td>\n",
              "      <td>0.000000</td>\n",
              "      <td>0.00000</td>\n",
              "      <td>0.000000</td>\n",
              "      <td>0.000000</td>\n",
              "      <td>0.000000</td>\n",
              "      <td>0.000000</td>\n",
              "      <td>0.00000</td>\n",
              "    </tr>\n",
              "    <tr>\n",
              "      <th>50%</th>\n",
              "      <td>70.000000</td>\n",
              "      <td>0.000000</td>\n",
              "      <td>0.000000</td>\n",
              "      <td>0.000000</td>\n",
              "      <td>1.000000</td>\n",
              "      <td>2.000000</td>\n",
              "      <td>0.00000</td>\n",
              "      <td>0.000000</td>\n",
              "      <td>0.000000</td>\n",
              "      <td>0.000000</td>\n",
              "      <td>...</td>\n",
              "      <td>0.000000</td>\n",
              "      <td>0.0</td>\n",
              "      <td>0.000000</td>\n",
              "      <td>0.000000</td>\n",
              "      <td>0.00000</td>\n",
              "      <td>0.000000</td>\n",
              "      <td>0.000000</td>\n",
              "      <td>0.000000</td>\n",
              "      <td>0.000000</td>\n",
              "      <td>0.00000</td>\n",
              "    </tr>\n",
              "    <tr>\n",
              "      <th>75%</th>\n",
              "      <td>82.000000</td>\n",
              "      <td>0.000000</td>\n",
              "      <td>0.000000</td>\n",
              "      <td>1.000000</td>\n",
              "      <td>2.000000</td>\n",
              "      <td>3.000000</td>\n",
              "      <td>1.00000</td>\n",
              "      <td>0.000000</td>\n",
              "      <td>1.000000</td>\n",
              "      <td>0.000000</td>\n",
              "      <td>...</td>\n",
              "      <td>0.000000</td>\n",
              "      <td>0.0</td>\n",
              "      <td>0.000000</td>\n",
              "      <td>0.000000</td>\n",
              "      <td>0.00000</td>\n",
              "      <td>0.000000</td>\n",
              "      <td>0.000000</td>\n",
              "      <td>0.000000</td>\n",
              "      <td>0.000000</td>\n",
              "      <td>0.00000</td>\n",
              "    </tr>\n",
              "    <tr>\n",
              "      <th>max</th>\n",
              "      <td>101.000000</td>\n",
              "      <td>1.000000</td>\n",
              "      <td>1.000000</td>\n",
              "      <td>1.000000</td>\n",
              "      <td>6.000000</td>\n",
              "      <td>4.000000</td>\n",
              "      <td>1.00000</td>\n",
              "      <td>1.000000</td>\n",
              "      <td>1.000000</td>\n",
              "      <td>1.000000</td>\n",
              "      <td>...</td>\n",
              "      <td>1.000000</td>\n",
              "      <td>0.0</td>\n",
              "      <td>1.000000</td>\n",
              "      <td>1.000000</td>\n",
              "      <td>1.00000</td>\n",
              "      <td>1.000000</td>\n",
              "      <td>1.000000</td>\n",
              "      <td>1.000000</td>\n",
              "      <td>1.000000</td>\n",
              "      <td>1.00000</td>\n",
              "    </tr>\n",
              "  </tbody>\n",
              "</table>\n",
              "<p>8 rows × 1323 columns</p>\n",
              "</div>\n",
              "      <button class=\"colab-df-convert\" onclick=\"convertToInteractive('df-924a6083-012c-4895-9ecd-d467f8b9247c')\"\n",
              "              title=\"Convert this dataframe to an interactive table.\"\n",
              "              style=\"display:none;\">\n",
              "        \n",
              "  <svg xmlns=\"http://www.w3.org/2000/svg\" height=\"24px\"viewBox=\"0 0 24 24\"\n",
              "       width=\"24px\">\n",
              "    <path d=\"M0 0h24v24H0V0z\" fill=\"none\"/>\n",
              "    <path d=\"M18.56 5.44l.94 2.06.94-2.06 2.06-.94-2.06-.94-.94-2.06-.94 2.06-2.06.94zm-11 1L8.5 8.5l.94-2.06 2.06-.94-2.06-.94L8.5 2.5l-.94 2.06-2.06.94zm10 10l.94 2.06.94-2.06 2.06-.94-2.06-.94-.94-2.06-.94 2.06-2.06.94z\"/><path d=\"M17.41 7.96l-1.37-1.37c-.4-.4-.92-.59-1.43-.59-.52 0-1.04.2-1.43.59L10.3 9.45l-7.72 7.72c-.78.78-.78 2.05 0 2.83L4 21.41c.39.39.9.59 1.41.59.51 0 1.02-.2 1.41-.59l7.78-7.78 2.81-2.81c.8-.78.8-2.07 0-2.86zM5.41 20L4 18.59l7.72-7.72 1.47 1.35L5.41 20z\"/>\n",
              "  </svg>\n",
              "      </button>\n",
              "      \n",
              "  <style>\n",
              "    .colab-df-container {\n",
              "      display:flex;\n",
              "      flex-wrap:wrap;\n",
              "      gap: 12px;\n",
              "    }\n",
              "\n",
              "    .colab-df-convert {\n",
              "      background-color: #E8F0FE;\n",
              "      border: none;\n",
              "      border-radius: 50%;\n",
              "      cursor: pointer;\n",
              "      display: none;\n",
              "      fill: #1967D2;\n",
              "      height: 32px;\n",
              "      padding: 0 0 0 0;\n",
              "      width: 32px;\n",
              "    }\n",
              "\n",
              "    .colab-df-convert:hover {\n",
              "      background-color: #E2EBFA;\n",
              "      box-shadow: 0px 1px 2px rgba(60, 64, 67, 0.3), 0px 1px 3px 1px rgba(60, 64, 67, 0.15);\n",
              "      fill: #174EA6;\n",
              "    }\n",
              "\n",
              "    [theme=dark] .colab-df-convert {\n",
              "      background-color: #3B4455;\n",
              "      fill: #D2E3FC;\n",
              "    }\n",
              "\n",
              "    [theme=dark] .colab-df-convert:hover {\n",
              "      background-color: #434B5C;\n",
              "      box-shadow: 0px 1px 3px 1px rgba(0, 0, 0, 0.15);\n",
              "      filter: drop-shadow(0px 1px 2px rgba(0, 0, 0, 0.3));\n",
              "      fill: #FFFFFF;\n",
              "    }\n",
              "  </style>\n",
              "\n",
              "      <script>\n",
              "        const buttonEl =\n",
              "          document.querySelector('#df-924a6083-012c-4895-9ecd-d467f8b9247c button.colab-df-convert');\n",
              "        buttonEl.style.display =\n",
              "          google.colab.kernel.accessAllowed ? 'block' : 'none';\n",
              "\n",
              "        async function convertToInteractive(key) {\n",
              "          const element = document.querySelector('#df-924a6083-012c-4895-9ecd-d467f8b9247c');\n",
              "          const dataTable =\n",
              "            await google.colab.kernel.invokeFunction('convertToInteractive',\n",
              "                                                     [key], {});\n",
              "          if (!dataTable) return;\n",
              "\n",
              "          const docLinkHtml = 'Like what you see? Visit the ' +\n",
              "            '<a target=\"_blank\" href=https://colab.research.google.com/notebooks/data_table.ipynb>data table notebook</a>'\n",
              "            + ' to learn more about interactive tables.';\n",
              "          element.innerHTML = '';\n",
              "          dataTable['output_type'] = 'display_data';\n",
              "          await google.colab.output.renderOutput(dataTable, element);\n",
              "          const docLink = document.createElement('div');\n",
              "          docLink.innerHTML = docLinkHtml;\n",
              "          element.appendChild(docLink);\n",
              "        }\n",
              "      </script>\n",
              "    </div>\n",
              "  </div>\n",
              "  "
            ]
          },
          "metadata": {},
          "execution_count": 12
        }
      ]
    },
    {
      "cell_type": "code",
      "source": [
        "%matplotlib inline\n",
        "import matplotlib.pyplot as plt\n",
        "df_train[['AGE','ELECTIVE', 'FEMALE','RACE', 'ZIPInc_Qrtl', 'CHF', 'NEURO', 'CHRNLUNG', 'HYPOTHY']].hist(bins=50, figsize=(20,15))\n",
        "plt.show()"
      ],
      "metadata": {
        "colab": {
          "base_uri": "https://localhost:8080/",
          "height": 879
        },
        "id": "sbJJ4vbWiXCn",
        "outputId": "e04323c2-5203-4eee-f803-b78a576ef16f"
      },
      "execution_count": 14,
      "outputs": [
        {
          "output_type": "display_data",
          "data": {
            "text/plain": [
              "<Figure size 1440x1080 with 9 Axes>"
            ],
            "image/png": "[encoded data removed]"
          },
          "metadata": {
            "needs_background": "light"
          }
        }
      ]
    },
    {
      "cell_type": "code",
      "source": [
        "df_train.plot(kind='scatter', x='DIED',y='AGE')"
      ],
      "metadata": {
        "colab": {
          "base_uri": "https://localhost:8080/",
          "height": 296
        },
        "id": "NUAwqvuLk3I7",
        "outputId": "64234c7a-db17-4767-f398-e64657f03a38"
      },
      "execution_count": 17,
      "outputs": [
        {
          "output_type": "execute_result",
          "data": {
            "text/plain": [
              "<matplotlib.axes._subplots.AxesSubplot at 0x7fa5e55256d0>"
            ]
          },
          "metadata": {},
          "execution_count": 17
        },
        {
          "output_type": "display_data",
          "data": {
            "text/plain": [
              "<Figure size 432x288 with 1 Axes>"
            ],
            "image/png": "[encoded data removed]"
          },
          "metadata": {
            "needs_background": "light"
          }
        }
      ]
    },
    {
      "cell_type": "markdown",
      "source": [
        "# Training"
      ],
      "metadata": {
        "id": "GAJGCghpo7Iv"
      }
    },
    {
      "cell_type": "code",
      "source": [
        "X_train = df_train[predictors]\n",
        "y_train = df_train[outcome]\n",
        "\n",
        "X_val = df_val[predictors]\n",
        "y_val = df_val[outcome]"
      ],
      "metadata": {
        "id": "uCnMx5EPpDmi"
      },
      "execution_count": 10,
      "outputs": []
    },
    {
      "cell_type": "markdown",
      "source": [
        "Logistic regression\n",
        "---"
      ],
      "metadata": {
        "id": "ncTlcbTGG-FP"
      }
    },
    {
      "cell_type": "code",
      "source": [
        "from sklearn.linear_model import LogisticRegression\n",
        "\n",
        "logit_reg = LogisticRegression(penalty='l2', C=1e42, solver='liblinear')\n",
        "logit_reg.fit(X_train, y_train)\n",
        "\n",
        "print('intercept ', logit_reg.intercept_[0])\n",
        "print('classes', logit_reg.classes_)\n",
        "pd.DataFrame({'coeff': logit_reg.coef_[0]}, \n",
        "             index=X_train.columns)"
      ],
      "metadata": {
        "colab": {
          "base_uri": "https://localhost:8080/",
          "height": 458
        },
        "id": "kOMH4MJBo6ew",
        "outputId": "04648ab7-4a3e-44b0-a6c2-49a7f390853b"
      },
      "execution_count": 11,
      "outputs": [
        {
          "output_type": "stream",
          "name": "stdout",
          "text": [
            "intercept  -5.885084947327748\n",
            "classes [0 1]\n"
          ]
        },
        {
          "output_type": "execute_result",
          "data": {
            "text/plain": [
              "                   coeff\n",
              "AGE             0.035216\n",
              "ELECTIVE        0.531213\n",
              "FEMALE          0.411952\n",
              "RACE            0.924531\n",
              "ZIPInc_Qrtl     0.160776\n",
              "...                  ...\n",
              "dxccs_cat_o660 -4.102193\n",
              "dxccs_cat_o661 -6.961485\n",
              "dxccs_cat_o662 -3.732333\n",
              "dxccs_cat_o663  0.613029\n",
              "dxccs_cat_o670  0.633274\n",
              "\n",
              "[1322 rows x 1 columns]"
            ],
            "text/html": [
              "\n",
              "  <div id=\"df-a50ffbfd-4293-407f-81a6-20dc6ddacd0c\">\n",
              "    <div class=\"colab-df-container\">\n",
              "      <div>\n",
              "<style scoped>\n",
              "    .dataframe tbody tr th:only-of-type {\n",
              "        vertical-align: middle;\n",
              "    }\n",
              "\n",
              "    .dataframe tbody tr th {\n",
              "        vertical-align: top;\n",
              "    }\n",
              "\n",
              "    .dataframe thead th {\n",
              "        text-align: right;\n",
              "    }\n",
              "</style>\n",
              "<table border=\"1\" class=\"dataframe\">\n",
              "  <thead>\n",
              "    <tr style=\"text-align: right;\">\n",
              "      <th></th>\n",
              "      <th>coeff</th>\n",
              "    </tr>\n",
              "  </thead>\n",
              "  <tbody>\n",
              "    <tr>\n",
              "      <th>AGE</th>\n",
              "      <td>0.035216</td>\n",
              "    </tr>\n",
              "    <tr>\n",
              "      <th>ELECTIVE</th>\n",
              "      <td>0.531213</td>\n",
              "    </tr>\n",
              "    <tr>\n",
              "      <th>FEMALE</th>\n",
              "      <td>0.411952</td>\n",
              "    </tr>\n",
              "    <tr>\n",
              "      <th>RACE</th>\n",
              "      <td>0.924531</td>\n",
              "    </tr>\n",
              "    <tr>\n",
              "      <th>ZIPInc_Qrtl</th>\n",
              "      <td>0.160776</td>\n",
              "    </tr>\n",
              "    <tr>\n",
              "      <th>...</th>\n",
              "      <td>...</td>\n",
              "    </tr>\n",
              "    <tr>\n",
              "      <th>dxccs_cat_o660</th>\n",
              "      <td>-4.102193</td>\n",
              "    </tr>\n",
              "    <tr>\n",
              "      <th>dxccs_cat_o661</th>\n",
              "      <td>-6.961485</td>\n",
              "    </tr>\n",
              "    <tr>\n",
              "      <th>dxccs_cat_o662</th>\n",
              "      <td>-3.732333</td>\n",
              "    </tr>\n",
              "    <tr>\n",
              "      <th>dxccs_cat_o663</th>\n",
              "      <td>0.613029</td>\n",
              "    </tr>\n",
              "    <tr>\n",
              "      <th>dxccs_cat_o670</th>\n",
              "      <td>0.633274</td>\n",
              "    </tr>\n",
              "  </tbody>\n",
              "</table>\n",
              "<p>1322 rows × 1 columns</p>\n",
              "</div>\n",
              "      <button class=\"colab-df-convert\" onclick=\"convertToInteractive('df-a50ffbfd-4293-407f-81a6-20dc6ddacd0c')\"\n",
              "              title=\"Convert this dataframe to an interactive table.\"\n",
              "              style=\"display:none;\">\n",
              "        \n",
              "  <svg xmlns=\"http://www.w3.org/2000/svg\" height=\"24px\"viewBox=\"0 0 24 24\"\n",
              "       width=\"24px\">\n",
              "    <path d=\"M0 0h24v24H0V0z\" fill=\"none\"/>\n",
              "    <path d=\"M18.56 5.44l.94 2.06.94-2.06 2.06-.94-2.06-.94-.94-2.06-.94 2.06-2.06.94zm-11 1L8.5 8.5l.94-2.06 2.06-.94-2.06-.94L8.5 2.5l-.94 2.06-2.06.94zm10 10l.94 2.06.94-2.06 2.06-.94-2.06-.94-.94-2.06-.94 2.06-2.06.94z\"/><path d=\"M17.41 7.96l-1.37-1.37c-.4-.4-.92-.59-1.43-.59-.52 0-1.04.2-1.43.59L10.3 9.45l-7.72 7.72c-.78.78-.78 2.05 0 2.83L4 21.41c.39.39.9.59 1.41.59.51 0 1.02-.2 1.41-.59l7.78-7.78 2.81-2.81c.8-.78.8-2.07 0-2.86zM5.41 20L4 18.59l7.72-7.72 1.47 1.35L5.41 20z\"/>\n",
              "  </svg>\n",
              "      </button>\n",
              "      \n",
              "  <style>\n",
              "    .colab-df-container {\n",
              "      display:flex;\n",
              "      flex-wrap:wrap;\n",
              "      gap: 12px;\n",
              "    }\n",
              "\n",
              "    .colab-df-convert {\n",
              "      background-color: #E8F0FE;\n",
              "      border: none;\n",
              "      border-radius: 50%;\n",
              "      cursor: pointer;\n",
              "      display: none;\n",
              "      fill: #1967D2;\n",
              "      height: 32px;\n",
              "      padding: 0 0 0 0;\n",
              "      width: 32px;\n",
              "    }\n",
              "\n",
              "    .colab-df-convert:hover {\n",
              "      background-color: #E2EBFA;\n",
              "      box-shadow: 0px 1px 2px rgba(60, 64, 67, 0.3), 0px 1px 3px 1px rgba(60, 64, 67, 0.15);\n",
              "      fill: #174EA6;\n",
              "    }\n",
              "\n",
              "    [theme=dark] .colab-df-convert {\n",
              "      background-color: #3B4455;\n",
              "      fill: #D2E3FC;\n",
              "    }\n",
              "\n",
              "    [theme=dark] .colab-df-convert:hover {\n",
              "      background-color: #434B5C;\n",
              "      box-shadow: 0px 1px 3px 1px rgba(0, 0, 0, 0.15);\n",
              "      filter: drop-shadow(0px 1px 2px rgba(0, 0, 0, 0.3));\n",
              "      fill: #FFFFFF;\n",
              "    }\n",
              "  </style>\n",
              "\n",
              "      <script>\n",
              "        const buttonEl =\n",
              "          document.querySelector('#df-a50ffbfd-4293-407f-81a6-20dc6ddacd0c button.colab-df-convert');\n",
              "        buttonEl.style.display =\n",
              "          google.colab.kernel.accessAllowed ? 'block' : 'none';\n",
              "\n",
              "        async function convertToInteractive(key) {\n",
              "          const element = document.querySelector('#df-a50ffbfd-4293-407f-81a6-20dc6ddacd0c');\n",
              "          const dataTable =\n",
              "            await google.colab.kernel.invokeFunction('convertToInteractive',\n",
              "                                                     [key], {});\n",
              "          if (!dataTable) return;\n",
              "\n",
              "          const docLinkHtml = 'Like what you see? Visit the ' +\n",
              "            '<a target=\"_blank\" href=https://colab.research.google.com/notebooks/data_table.ipynb>data table notebook</a>'\n",
              "            + ' to learn more about interactive tables.';\n",
              "          element.innerHTML = '';\n",
              "          dataTable['output_type'] = 'display_data';\n",
              "          await google.colab.output.renderOutput(dataTable, element);\n",
              "          const docLink = document.createElement('div');\n",
              "          docLink.innerHTML = docLinkHtml;\n",
              "          element.appendChild(docLink);\n",
              "        }\n",
              "      </script>\n",
              "    </div>\n",
              "  </div>\n",
              "  "
            ]
          },
          "metadata": {},
          "execution_count": 11
        }
      ]
    },
    {
      "cell_type": "code",
      "source": [
        "y_proba = logit_reg.predict_log_proba(X_val)"
      ],
      "metadata": {
        "colab": {
          "base_uri": "https://localhost:8080/"
        },
        "id": "bEfdetyzqMH5",
        "outputId": "9b3a36c8-7967-45a3-a136-9425c8b4e0f3"
      },
      "execution_count": 43,
      "outputs": [
        {
          "output_type": "stream",
          "name": "stderr",
          "text": [
            "/usr/local/lib/python3.7/dist-packages/sklearn/linear_model/_logistic.py:1700: RuntimeWarning: divide by zero encountered in log\n",
            "  return np.log(self.predict_proba(X))\n"
          ]
        }
      ]
    },
    {
      "cell_type": "code",
      "source": [
        "y_proba.shape"
      ],
      "metadata": {
        "colab": {
          "base_uri": "https://localhost:8080/"
        },
        "id": "jGsnsostgkf0",
        "outputId": "c8a03b77-dcda-46ec-e138-9edfc8e228bb"
      },
      "execution_count": 19,
      "outputs": [
        {
          "output_type": "execute_result",
          "data": {
            "text/plain": [
              "(2000, 2)"
            ]
          },
          "metadata": {},
          "execution_count": 19
        }
      ]
    },
    {
      "cell_type": "markdown",
      "source": [
        "Lasso regression\n",
        "---"
      ],
      "metadata": {
        "id": "tyqbtoIfHF70"
      }
    },
    {
      "cell_type": "code",
      "source": [
        "from sklearn.linear_model import Lasso\n",
        "lasso_reg = Lasso(alpha=0.1)\n",
        "lasso_reg.fit(X_train, y_train)"
      ],
      "metadata": {
        "colab": {
          "base_uri": "https://localhost:8080/"
        },
        "id": "ddA2OLKbHJkJ",
        "outputId": "d39e93ae-7eac-4d2b-e573-52af7a51561f"
      },
      "execution_count": 49,
      "outputs": [
        {
          "output_type": "execute_result",
          "data": {
            "text/plain": [
              "Lasso(alpha=0.1)"
            ]
          },
          "metadata": {},
          "execution_count": 49
        }
      ]
    },
    {
      "cell_type": "markdown",
      "source": [
        "Random forest\n",
        "---"
      ],
      "metadata": {
        "id": "r7dx8U4bRVz6"
      }
    },
    {
      "cell_type": "code",
      "source": [
        "pass"
      ],
      "metadata": {
        "id": "_fk9O2Y8RURk"
      },
      "execution_count": null,
      "outputs": []
    },
    {
      "cell_type": "markdown",
      "source": [
        "XGBoost\n",
        "---"
      ],
      "metadata": {
        "id": "MbCp2HD4RYAK"
      }
    },
    {
      "cell_type": "code",
      "source": [
        "pass"
      ],
      "metadata": {
        "id": "qgd7D-p9RaDJ"
      },
      "execution_count": null,
      "outputs": []
    },
    {
      "cell_type": "markdown",
      "source": [
        "Neural network\n",
        "---"
      ],
      "metadata": {
        "id": "6RcnBTn8RaeQ"
      }
    },
    {
      "cell_type": "code",
      "source": [
        "pass"
      ],
      "metadata": {
        "id": "W4isXC9hRdiq"
      },
      "execution_count": null,
      "outputs": []
    },
    {
      "cell_type": "markdown",
      "source": [
        "# Evaluating Classification Models"
      ],
      "metadata": {
        "id": "1q9owskAh2xT"
      }
    },
    {
      "cell_type": "markdown",
      "source": [
        "confusion matrix"
      ],
      "metadata": {
        "id": "ueLQdsGtitaN"
      }
    },
    {
      "cell_type": "code",
      "source": [
        "confusion_matrix(y_val, logit_reg.predict(X_val))"
      ],
      "metadata": {
        "colab": {
          "base_uri": "https://localhost:8080/"
        },
        "id": "m9_4WWKAh3gO",
        "outputId": "6044c391-8944-4e27-ae45-26817d6c19de"
      },
      "execution_count": 22,
      "outputs": [
        {
          "output_type": "execute_result",
          "data": {
            "text/plain": [
              "array([[1385,  226],\n",
              "       [ 219,  170]])"
            ]
          },
          "metadata": {},
          "execution_count": 22
        }
      ]
    },
    {
      "cell_type": "code",
      "source": [
        "logit_reg.predict(X_val)"
      ],
      "metadata": {
        "colab": {
          "base_uri": "https://localhost:8080/"
        },
        "id": "LLxFqWOojeua",
        "outputId": "a7cd5b04-6252-41fd-b591-a579b7251464"
      },
      "execution_count": 23,
      "outputs": [
        {
          "output_type": "execute_result",
          "data": {
            "text/plain": [
              "array([0, 1, 0, ..., 1, 1, 0])"
            ]
          },
          "metadata": {},
          "execution_count": 23
        }
      ]
    },
    {
      "cell_type": "markdown",
      "source": [
        "Precision/ Recall/ f1 score"
      ],
      "metadata": {
        "id": "CLiDcNtFjV7d"
      }
    },
    {
      "cell_type": "code",
      "source": [
        "from sklearn.metrics import precision_score, recall_score, f1_score\n",
        "\n",
        "precision_score(y_val, logit_reg.predict(X_val))"
      ],
      "metadata": {
        "colab": {
          "base_uri": "https://localhost:8080/"
        },
        "id": "7vTn3_WgjY63",
        "outputId": "4272e1b3-874d-4782-dd57-7fa46804e13c"
      },
      "execution_count": 27,
      "outputs": [
        {
          "output_type": "execute_result",
          "data": {
            "text/plain": [
              "0.4292929292929293"
            ]
          },
          "metadata": {},
          "execution_count": 27
        }
      ]
    },
    {
      "cell_type": "code",
      "source": [
        "recall_score(y_val, logit_reg.predict(X_val))"
      ],
      "metadata": {
        "colab": {
          "base_uri": "https://localhost:8080/"
        },
        "id": "q0CD9Ntij6cL",
        "outputId": "170b0462-2368-4838-c335-024f7d520a2b"
      },
      "execution_count": 25,
      "outputs": [
        {
          "output_type": "execute_result",
          "data": {
            "text/plain": [
              "0.4370179948586118"
            ]
          },
          "metadata": {},
          "execution_count": 25
        }
      ]
    },
    {
      "cell_type": "code",
      "source": [
        "f1_score(y_val, logit_reg.predict(X_val))"
      ],
      "metadata": {
        "colab": {
          "base_uri": "https://localhost:8080/"
        },
        "id": "k5xAQOgQkGrV",
        "outputId": "245a16a2-4479-435b-929f-5cc8c5e77ec4"
      },
      "execution_count": 28,
      "outputs": [
        {
          "output_type": "execute_result",
          "data": {
            "text/plain": [
              "0.43312101910828027"
            ]
          },
          "metadata": {},
          "execution_count": 28
        }
      ]
    },
    {
      "cell_type": "markdown",
      "source": [
        "ROC curve"
      ],
      "metadata": {
        "id": "nekLl58Pjzxb"
      }
    },
    {
      "cell_type": "code",
      "source": [
        "type(logit_reg.predict_proba(X_val)[:, 0])"
      ],
      "metadata": {
        "colab": {
          "base_uri": "https://localhost:8080/"
        },
        "id": "ynOaK74M8NFp",
        "outputId": "c0fc2200-50aa-479d-e419-ff7dc606cd84"
      },
      "execution_count": 17,
      "outputs": [
        {
          "output_type": "execute_result",
          "data": {
            "text/plain": [
              "numpy.ndarray"
            ]
          },
          "metadata": {},
          "execution_count": 17
        }
      ]
    },
    {
      "cell_type": "code",
      "source": [
        "type(y_val)"
      ],
      "metadata": {
        "colab": {
          "base_uri": "https://localhost:8080/"
        },
        "id": "jTsHEHVH8Vh7",
        "outputId": "769010bd-d8a7-464b-fa47-edfd79d7f227"
      },
      "execution_count": 15,
      "outputs": [
        {
          "output_type": "execute_result",
          "data": {
            "text/plain": [
              "pandas.core.series.Series"
            ]
          },
          "metadata": {},
          "execution_count": 15
        }
      ]
    },
    {
      "cell_type": "code",
      "source": [
        "from sklearn.metrics import roc_curve\n",
        "\n",
        "fpr, tpr, thresholds = roc_curve(y_val, logit_reg.predict_proba(X_val)[:, 1])\n"
      ],
      "metadata": {
        "id": "LqzcP1MNj1vp"
      },
      "execution_count": 26,
      "outputs": []
    },
    {
      "cell_type": "code",
      "source": [
        "def plot_roc_curve(fpr, tpr, label=None):\n",
        "  plt.plot(fpr, tpr, linewidth=2, label=label)\n",
        "  plt.plot([0,1],[0,1], 'k--') #Dashed diagonal"
      ],
      "metadata": {
        "id": "bpmcOdIWAAd0"
      },
      "execution_count": 27,
      "outputs": []
    },
    {
      "cell_type": "code",
      "source": [
        "plot_roc_curve(fpr, tpr)\n",
        "plt.show()"
      ],
      "metadata": {
        "colab": {
          "base_uri": "https://localhost:8080/",
          "height": 265
        },
        "id": "GUViExJpA0pk",
        "outputId": "52ddc2eb-dc92-474b-851f-644733880f53"
      },
      "execution_count": 28,
      "outputs": [
        {
          "output_type": "display_data",
          "data": {
            "text/plain": [
              "<Figure size 432x288 with 1 Axes>"
            ],
            "image/png": "[encoded data removed]"
          },
          "metadata": {
            "needs_background": "light"
          }
        }
      ]
    },
    {
      "cell_type": "markdown",
      "source": [
        "AUC"
      ],
      "metadata": {
        "id": "t-84BOua9tgz"
      }
    },
    {
      "cell_type": "code",
      "source": [
        "from sklearn.metrics import roc_auc_score\n",
        "roc_auc_score(y_val, logit_reg.predict_proba(X_val)[:, 1])"
      ],
      "metadata": {
        "colab": {
          "base_uri": "https://localhost:8080/"
        },
        "id": "9bk1CJYN9s7K",
        "outputId": "dc57dccd-5e4e-4923-a3da-dc125adb33e6"
      },
      "execution_count": 30,
      "outputs": [
        {
          "output_type": "execute_result",
          "data": {
            "text/plain": [
              "0.7214682476993803"
            ]
          },
          "metadata": {},
          "execution_count": 30
        }
      ]
    },
    {
      "cell_type": "markdown",
      "source": [
        "PR trade off"
      ],
      "metadata": {
        "id": "I_o1rl_4B0mG"
      }
    },
    {
      "cell_type": "code",
      "source": [
        "from sklearn.metrics import precision_recall_curve\n",
        "\n",
        "precisions, recalls, thresholds = precision_recall_curve(y_val, logit_reg.predict_proba(X_val)[:, 1])"
      ],
      "metadata": {
        "id": "vzPGm1AxB2SZ"
      },
      "execution_count": 47,
      "outputs": []
    },
    {
      "cell_type": "code",
      "source": [
        "def plot_pr_curve_vs_threshold(precisions, recalls, thresholds):\n",
        "  plt.plot(thresholds, precisions[:-1], \"b--\", label=\"Precision\")\n",
        "  plt.plot(thresholds, recalls[:-1], \"g-\", label=\"Recall\")\n",
        "  plt.plot([0,1],[0,1], 'k--') #Dashed diagonal"
      ],
      "metadata": {
        "id": "JkXrABSnCT57"
      },
      "execution_count": 32,
      "outputs": []
    },
    {
      "cell_type": "code",
      "source": [
        "plot_pr_curve_vs_threshold(precisions, recalls, thresholds)\n",
        "plt.show()"
      ],
      "metadata": {
        "colab": {
          "base_uri": "https://localhost:8080/",
          "height": 265
        },
        "id": "RZq7_5rKC_nP",
        "outputId": "5f62dd4c-4644-45c7-acf6-4f60c6e6c7bb"
      },
      "execution_count": 33,
      "outputs": [
        {
          "output_type": "display_data",
          "data": {
            "text/plain": [
              "<Figure size 432x288 with 1 Axes>"
            ],
            "image/png": "[encoded data removed]"
          },
          "metadata": {
            "needs_background": "light"
          }
        }
      ]
    },
    {
      "cell_type": "code",
      "source": [
        "def plot_pr_curve(precisions, recalls, label=None):\n",
        "  plt.plot(precisions, recalls, linewidth=2, label=label)\n",
        "  plt.plot([0,1],[0,1], 'k--') #Dashed diagonal"
      ],
      "metadata": {
        "id": "8AJLGh_AFIU8"
      },
      "execution_count": 45,
      "outputs": []
    },
    {
      "cell_type": "code",
      "source": [
        "plot_pr_curve(precisions, recalls)\n",
        "plt.show()"
      ],
      "metadata": {
        "colab": {
          "base_uri": "https://localhost:8080/",
          "height": 265
        },
        "outputId": "36188545-9f63-41a3-bb49-c051ebc1df08",
        "id": "3hND4Fx6FIVM"
      },
      "execution_count": 50,
      "outputs": [
        {
          "output_type": "display_data",
          "data": {
            "text/plain": [
              "<Figure size 432x288 with 1 Axes>"
            ],
            "image/png": "[encoded data removed]"
          },
          "metadata": {
            "needs_background": "light"
          }
        }
      ]
    },
    {
      "cell_type": "markdown",
      "source": [
        "Module\n",
        "---"
      ],
      "metadata": {
        "id": "phXj_VWeKSne"
      }
    },
    {
      "cell_type": "code",
      "source": [
        "from sklearn.metrics import precision_score, recall_score, f1_score\n",
        "from sklearn.metrics import roc_auc_score\n",
        "\n",
        "def eval_model(y: list, X: list, model , model_name: str) -> np.array : \n",
        "    \n",
        "    print(model_name)\n",
        "    print('==================================================')\n",
        "    mod = model\n",
        "    print('Confusion Matrix: \\n',confusion_matrix(y, mod.predict(X)))\n",
        "    print('Precision: \\n', precision_score(y, mod.predict(X)))\n",
        "    print('Recall: \\n', recall_score(y, mod.predict(X)))\n",
        "    print('AUC: \\n', roc_auc_score(y, logit_reg.predict_proba(X)[:, 1]))\n",
        "    print('==================================================')\n"
      ],
      "metadata": {
        "id": "dq5nW_gTKVp_"
      },
      "execution_count": 76,
      "outputs": []
    },
    {
      "cell_type": "code",
      "source": [
        "eval_model(y_val, X_val, logit_reg, 'Logistic regression')"
      ],
      "metadata": {
        "colab": {
          "base_uri": "https://localhost:8080/"
        },
        "id": "slfs1uT8ML1t",
        "outputId": "43aba355-78ad-422b-ef0c-e53d7978d796"
      },
      "execution_count": 77,
      "outputs": [
        {
          "output_type": "stream",
          "name": "stdout",
          "text": [
            "logistic regression\n",
            "==================================================\n",
            "Confusion Matrix: \n",
            " [[1385  226]\n",
            " [ 219  170]]\n",
            "Precision: \n",
            " 0.4292929292929293\n",
            "Recall: \n",
            " 0.4370179948586118\n",
            "AUC: \n",
            " 0.7214682476993803\n",
            "==================================================\n"
          ]
        }
      ]
    }
  ]
}